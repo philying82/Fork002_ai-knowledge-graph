{
 "cells": [
  {
   "cell_type": "code",
   "execution_count": null,
   "id": "0e83ca71",
   "metadata": {},
   "outputs": [
    {
     "name": "stdout",
     "output_type": "stream",
     "text": [
      "True\n"
     ]
    }
   ],
   "source": [
    "### local DB setup and load\n",
    "import os\n",
    "import yaml\n",
    "import pandas as pd\n",
    "from dotenv import load_dotenv\n",
    "\n",
    "from langchain_openai import AzureChatOpenAI\n",
    "from langchain_core.prompts import ChatPromptTemplate\n",
    "\n",
    "print(load_dotenv(\"../chatbot_poc_playground/.env\"))"
   ]
  },
  {
   "cell_type": "code",
   "execution_count": null,
   "id": "3a0b5eca",
   "metadata": {},
   "outputs": [
    {
     "name": "stdout",
     "output_type": "stream",
     "text": [
      "Writing test.py\n"
     ]
    }
   ],
   "source": [
    "from langchain_community.document_loaders import PyPDFLoader\n",
    "from langchain_text_splitters import RecursiveCharacterTextSplitter\n",
    "\n",
    "def load_and_chunk_pdfs(pdf_dir):\n",
    "\n",
    "    all_chunks = []\n",
    "\n",
    "    for filename in os.listdir(pdf_dir):\n",
    "        if filename.lower().endwith(\"pdf\"):\n",
    "            file_path = os.path.join(pdf_dir, filename)\n",
    "            print(f\"Loading file: {filename}\")\n",
    "            pages = load_pdf_file(file_path)\n",
    "            chunks = split_pdf_pages_into_chunks(pdf_pages=pages, \n",
    "                                        chunk_size=400, \n",
    "                                        chunk_overlap=500)\n",
    "            all_chunks.extend(chunks)            \n",
    "            return    \n",
    "\n",
    "\n",
    "def load_pdf_file(file_path):\n",
    "    loader = PyPDFLoader(file_path)\n",
    "    # Load pages\n",
    "    pages = loader.load()\n",
    "    return pages\n",
    "\n",
    "def load_text_file(file_path):\n",
    "    with open(file_path, 'r', encoding='utf-8') as f:\n",
    "        content = f.read()  # Read entire file as a single string\n",
    "    return content.strip()\n",
    "\n",
    "def split_text_into_chunks(text, chunk_size=3000, chunk_overlap=100):\n",
    "    splitter = RecursiveCharacterTextSplitter(\n",
    "        chunk_size=chunk_size,\n",
    "        chunk_overlap=chunk_overlap,\n",
    "    )\n",
    "    chunks = splitter.split_text(text)\n",
    "    return chunks\n",
    "\n",
    "def split_pdf_pages_into_chunks(pdf_pages, chunk_size=3000, chunk_overlap=100):\n",
    "    splitter = RecursiveCharacterTextSplitter(\n",
    "        chunk_size=chunk_size,\n",
    "        chunk_overlap=chunk_overlap,\n",
    "    )\n",
    "    chunks = splitter.split_documents(pdf_pages)    \n",
    "    return chunks\n",
    "\n",
    "# file_path = \"../sample_data/ntrs-10k-2023.pdf\"\n",
    "# pdf_pages = load_pdf_file(file_path)\n",
    "\n",
    "file_path = \"../sample_data/ntrs-20231231.htm.txt\"\n",
    "text_data = load_text_file(file_path)\n",
    "\n",
    "txt_chunks = split_text_into_chunks(text_data)\n",
    "print(f\"Split text into {len(txt_chunks)} chunk\")\n",
    "print(txt_chunks[0])\n",
    "\n",
    "\n"
   ]
  }
 ],
 "metadata": {
  "kernelspec": {
   "display_name": "kgraph",
   "language": "python",
   "name": "python3"
  },
  "language_info": {
   "codemirror_mode": {
    "name": "ipython",
    "version": 3
   },
   "file_extension": ".py",
   "mimetype": "text/x-python",
   "name": "python",
   "nbconvert_exporter": "python",
   "pygments_lexer": "ipython3",
   "version": "3.12.0"
  }
 },
 "nbformat": 4,
 "nbformat_minor": 5
}
